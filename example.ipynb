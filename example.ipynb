{
 "cells": [
  {
   "cell_type": "code",
   "execution_count": 1,
   "metadata": {},
   "outputs": [],
   "source": [
    "from modules.graph_functions import *"
   ]
  },
  {
   "cell_type": "code",
   "execution_count": 2,
   "metadata": {},
   "outputs": [],
   "source": [
    "N = 14\n",
    "adj_mat = adjacency_matrix_binomial(N)"
   ]
  },
  {
   "cell_type": "code",
   "execution_count": 3,
   "metadata": {},
   "outputs": [
    {
     "name": "stdout",
     "output_type": "stream",
     "text": [
      "0(1), neighbours:2, 3, 4, 6, 7, 9, 10, 11, 13, \n",
      "1(1), neighbours:2, 3, 4, 8, 9, 11, 13, \n",
      "2(1), neighbours:0, 1, 7, 12, 13, \n",
      "3(0), neighbours:0, 1, 4, 7, 8, 9, 10, 11, 12, 13, wire1, \n",
      "4(1), neighbours:0, 1, 3, 6, 7, 13, \n",
      "5(1), neighbours:6, 8, 9, 10, 11, \n",
      "6(0), neighbours:0, 4, 5, 7, 8, 9, wire0, \n",
      "7(1), neighbours:0, 2, 3, 4, 6, 8, 11, 12, 13, \n",
      "8(1), neighbours:1, 3, 5, 6, 7, 12, \n",
      "9(0), neighbours:0, 1, 3, 5, 6, 10, 11, 12, 13, wire3, \n",
      "10(1), neighbours:0, 3, 5, 9, 13, \n",
      "11(1), neighbours:0, 1, 3, 5, 7, 9, 12, \n",
      "12(1), neighbours:2, 3, 7, 8, 9, 11, 13, \n",
      "13(0), neighbours:0, 1, 2, 3, 4, 7, 9, 10, 12, wire2, \n"
     ]
    }
   ],
   "source": [
    "G = generate_random_graph(N, adj_mat)\n",
    "G.set_rules(spread,disconnect)\n",
    "generate_random_state(G,4)\n",
    "G.print_nodes()"
   ]
  },
  {
   "cell_type": "code",
   "execution_count": 4,
   "metadata": {},
   "outputs": [
    {
     "name": "stdout",
     "output_type": "stream",
     "text": [
      "0(1), neighbours:3, 6, 9, 13, \n",
      "1(1), neighbours:3, 9, 13, \n",
      "2(1), neighbours:13, \n",
      "3(0), neighbours:0, 1, 4, 7, 8, 9, 10, 11, 12, 13, wire1, \n",
      "4(1), neighbours:3, 6, 13, \n",
      "5(1), neighbours:6, 9, \n",
      "6(0), neighbours:0, 4, 5, 7, 8, 9, wire0, \n",
      "7(1), neighbours:3, 6, 11, 13, \n",
      "8(1), neighbours:3, 6, \n",
      "9(0), neighbours:0, 1, 3, 5, 6, 10, 11, 12, 13, wire3, \n",
      "10(1), neighbours:3, 9, 13, \n",
      "11(1), neighbours:3, 7, 9, \n",
      "12(1), neighbours:3, 9, 13, \n",
      "13(0), neighbours:0, 1, 2, 3, 4, 7, 9, 10, 12, wire2, \n"
     ]
    }
   ],
   "source": [
    "G.simplify_step()\n",
    "G.print_nodes()"
   ]
  },
  {
   "cell_type": "code",
   "execution_count": 10,
   "metadata": {},
   "outputs": [
    {
     "data": {
      "text/plain": [
       "True"
      ]
     },
     "execution_count": 10,
     "metadata": {},
     "output_type": "execute_result"
    }
   ],
   "source": [
    "G.simplify()"
   ]
  },
  {
   "cell_type": "code",
   "execution_count": 11,
   "metadata": {},
   "outputs": [
    {
     "name": "stdout",
     "output_type": "stream",
     "text": [
      ": nodes(10, starred(10); was changed? False; Simplified? True\n"
     ]
    }
   ],
   "source": [
    "print(G)"
   ]
  },
  {
   "cell_type": "code",
   "execution_count": null,
   "metadata": {},
   "outputs": [],
   "source": []
  },
  {
   "cell_type": "code",
   "execution_count": null,
   "metadata": {},
   "outputs": [],
   "source": []
  }
 ],
 "metadata": {
  "kernelspec": {
   "display_name": "Python 3",
   "language": "python",
   "name": "python3"
  },
  "language_info": {
   "codemirror_mode": {
    "name": "ipython",
    "version": 3
   },
   "file_extension": ".py",
   "mimetype": "text/x-python",
   "name": "python",
   "nbconvert_exporter": "python",
   "pygments_lexer": "ipython3",
   "version": "3.10.2"
  },
  "orig_nbformat": 4
 },
 "nbformat": 4,
 "nbformat_minor": 2
}
