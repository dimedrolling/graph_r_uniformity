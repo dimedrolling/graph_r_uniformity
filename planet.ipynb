{
 "cells": [
  {
   "cell_type": "code",
   "execution_count": null,
   "metadata": {},
   "outputs": [],
   "source": [
    "import math\n",
    "\n",
    "def find_collision_time(twin_planet_index, K):\n",
    "    pass\n",
    "\n",
    "\n",
    "def solution():\n",
    "    сoeff = input().split()\n",
    "    K, n = float(coeff[0]), int(coeff[1])\n",
    "\n",
    "    # radius, mass, temperature \n",
    "    planet_0 = map(float, input().split())\n",
    "    \n",
    "    for _ in range(n):\n",
    "        radius, mass, temperature = map(float, input().split())\n",
    "        if math.abs(radius-planet_0[0])/planet_0[0]<=0.1 and  math.abs(mass-planet_0[1])/planet_0[1] and math.abs(temperature-planet_0[2])/planet_0[2]:\n",
    "            twin_planet = [radius, mass, temperature]\n",
    "            exit\n",
    "            \n",
    "            \n",
    "    # Вычисление времени столкновения\n",
    "    if twin_planet_index != -1:\n",
    "        collision_time = ...\n",
    "        print(collision_time)\n",
    "    else:\n",
    "        print(-1)\n",
    "\n",
    "solution()"
   ]
  }
 ],
 "metadata": {
  "language_info": {
   "name": "python"
  },
  "orig_nbformat": 4
 },
 "nbformat": 4,
 "nbformat_minor": 2
}
