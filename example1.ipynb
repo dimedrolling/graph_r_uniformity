{
 "cells": [
  {
   "cell_type": "code",
   "execution_count": 1,
   "metadata": {},
   "outputs": [],
   "source": [
    "from modules.graph_functions import *"
   ]
  },
  {
   "cell_type": "code",
   "execution_count": 2,
   "metadata": {},
   "outputs": [],
   "source": [
    "N = 14 # number of nodes\n",
    "adj_mat = adjacency_matrix_binomial(N) # makes a 2d array for an adjacency matrix"
   ]
  },
  {
   "cell_type": "code",
   "execution_count": 3,
   "metadata": {},
   "outputs": [
    {
     "name": "stdout",
     "output_type": "stream",
     "text": [
      "0(0), neighbours:1, 2, 6, 7, 9, wire2, \n",
      "1(1), neighbours:0, 5, 7, 11, 12, \n",
      "2(1), neighbours:0, 5, 6, 7, 9, 10, \n",
      "3(1), neighbours:5, 8, 9, 11, 12, \n",
      "4(1), neighbours:7, 10, 11, 12, \n",
      "5(0), neighbours:1, 2, 3, 6, 8, 11, 12, wire3, \n",
      "6(1), neighbours:0, 2, 5, 7, 8, 11, 13, \n",
      "7(0), neighbours:0, 1, 2, 4, 6, wire0, \n",
      "8(1), neighbours:3, 5, 6, 12, 13, \n",
      "9(1), neighbours:0, 2, 3, \n",
      "10(1), neighbours:2, 4, \n",
      "11(1), neighbours:1, 3, 4, 5, 6, 12, \n",
      "12(1), neighbours:1, 3, 4, 5, 8, 11, \n",
      "13(0), neighbours:6, 8, wire1, \n"
     ]
    }
   ],
   "source": [
    "G = generate_graph(N, adj_mat) # creates an instance of the graph \n",
    "G.set_rules(spread,disconnect) # set rules to be applied\n",
    "generate_random_state(G,4) # generates a random coloring \n",
    "G.print_nodes() # prints all nodes"
   ]
  },
  {
   "cell_type": "code",
   "execution_count": 4,
   "metadata": {},
   "outputs": [
    {
     "name": "stdout",
     "output_type": "stream",
     "text": [
      "0(0), neighbours:1, 2, 6, 7, 9, wire2, \n",
      "1(1), neighbours:0, 5, 7, \n",
      "2(1), neighbours:0, 5, 7, \n",
      "3(1), neighbours:5, 12, \n",
      "4(1), neighbours:7, \n",
      "5(0), neighbours:1, 2, 3, 6, 8, 11, 12, wire3, \n",
      "6(1), neighbours:0, 5, 7, 13, \n",
      "7(0), neighbours:0, 1, 2, 4, 6, wire0, \n",
      "8(1), neighbours:5, 13, \n",
      "9(1), neighbours:0, \n",
      "10(1), neighbours:\n",
      "11(1), neighbours:5, \n",
      "12(1), neighbours:3, 5, \n",
      "13(0), neighbours:6, 8, wire1, \n"
     ]
    }
   ],
   "source": [
    "G.simplify_step() # one step of rule application\n",
    "G.print_nodes() "
   ]
  },
  {
   "cell_type": "code",
   "execution_count": 6,
   "metadata": {},
   "outputs": [
    {
     "data": {
      "image/png": "[encoded data removed]",
      "text/plain": [
       "<Figure size 432x288 with 1 Axes>"
      ]
     },
     "metadata": {},
     "output_type": "display_data"
    }
   ],
   "source": [
    "G.simplify_step() \n",
    "G.plot_graph() # makes a plot for the graph "
   ]
  },
  {
   "cell_type": "code",
   "execution_count": 7,
   "metadata": {},
   "outputs": [
    {
     "data": {
      "text/plain": [
       "True"
      ]
     },
     "execution_count": 7,
     "metadata": {},
     "output_type": "execute_result"
    }
   ],
   "source": [
    "G.simplify() # applies simplifying step until graph cannot be simplified any more and returns True if all nodes are colored"
   ]
  },
  {
   "cell_type": "code",
   "execution_count": 8,
   "metadata": {},
   "outputs": [
    {
     "name": "stdout",
     "output_type": "stream",
     "text": [
      ": nodes(10, starred(10); was changed? False; Simplified? True\n"
     ]
    }
   ],
   "source": [
    "print(G)"
   ]
  },
  {
   "cell_type": "code",
   "execution_count": null,
   "metadata": {},
   "outputs": [],
   "source": []
  },
  {
   "cell_type": "code",
   "execution_count": null,
   "metadata": {},
   "outputs": [],
   "source": []
  }
 ],
 "metadata": {
  "kernelspec": {
   "display_name": "Python 3",
   "language": "python",
   "name": "python3"
  },
  "language_info": {
   "codemirror_mode": {
    "name": "ipython",
    "version": 3
   },
   "file_extension": ".py",
   "mimetype": "text/x-python",
   "name": "python",
   "nbconvert_exporter": "python",
   "pygments_lexer": "ipython3",
   "version": "3.10.2"
  },
  "orig_nbformat": 4
 },
 "nbformat": 4,
 "nbformat_minor": 2
}
